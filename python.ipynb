{
 "cells": [
  {
   "cell_type": "code",
   "execution_count": null,
   "id": "088e9232",
   "metadata": {},
   "outputs": [],
   "source": [
    "import pandas as pd\n",
    "from nycflights13 import flights\n",
    "\n",
    "flights.head()"
   ]
  },
  {
   "cell_type": "markdown",
   "id": "c843ed56",
   "metadata": {},
   "source": [
    "## 1. How many columns and rows do we have in the dataset?"
   ]
  },
  {
   "cell_type": "code",
   "execution_count": null,
   "id": "8ddb8698",
   "metadata": {},
   "outputs": [],
   "source": []
  },
  {
   "cell_type": "markdown",
   "id": "02be21b0",
   "metadata": {},
   "source": [
    "## 2. How many different departure airports (`origin`) do we have in the dataset?"
   ]
  },
  {
   "cell_type": "code",
   "execution_count": null,
   "id": "b198e9c8",
   "metadata": {},
   "outputs": [],
   "source": []
  },
  {
   "cell_type": "markdown",
   "id": "c1f51dfd",
   "metadata": {},
   "source": [
    "## 3. Please calculate average delay (`arr_delay`) per each month in  2013 "
   ]
  },
  {
   "cell_type": "code",
   "execution_count": null,
   "id": "9271d71c",
   "metadata": {},
   "outputs": [],
   "source": []
  },
  {
   "cell_type": "markdown",
   "id": "a5cc248c",
   "metadata": {},
   "source": [
    "## 4. Please create new column `arr_delay_h` that will have average delay in hours"
   ]
  },
  {
   "cell_type": "code",
   "execution_count": null,
   "id": "47747394",
   "metadata": {},
   "outputs": [],
   "source": []
  }
 ],
 "metadata": {
  "language_info": {
   "name": "python"
  }
 },
 "nbformat": 4,
 "nbformat_minor": 5
}
