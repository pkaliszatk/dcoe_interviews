{
 "cells": [
  {
   "cell_type": "code",
   "execution_count": null,
   "id": "e75218f5",
   "metadata": {},
   "outputs": [],
   "source": [
    "import sqlite3\n",
    "\n",
    "import pandas as pd\n",
    "\n",
    "from sql_functions import preview_tables"
   ]
  },
  {
   "cell_type": "code",
   "execution_count": null,
   "id": "dabe7dde",
   "metadata": {},
   "outputs": [],
   "source": [
    "%load_ext sql\n",
    "%config SqlMagic.autopandas = True\n",
    "%config SqlMagic.feedback = False\n",
    "%config SqlMagic.displaycon = False\n",
    "%config SqlMagic.style = 'DEFAULT'\n",
    "\n",
    "%sql sqlite:///sql_assignment.db"
   ]
  },
  {
   "cell_type": "code",
   "execution_count": null,
   "id": "6277d753",
   "metadata": {},
   "outputs": [],
   "source": [
    "preview_tables(\"sql_assignment.db\")"
   ]
  },
  {
   "cell_type": "markdown",
   "id": "e27f5ee3",
   "metadata": {},
   "source": [
    "Please create a table that shows:\n",
    "\n",
    "- employee_name\n",
    "- manager_name\n",
    "- department_name\n",
    "\n",
    "For all employees in **Technology** department"
   ]
  },
  {
   "cell_type": "code",
   "execution_count": null,
   "id": "2e835a67",
   "metadata": {},
   "outputs": [],
   "source": [
    "%%sql\n",
    "-- SQL code goes below\n",
    "SELECT * FROM employees"
   ]
  }
 ],
 "metadata": {
  "kernelspec": {
   "display_name": ".venv",
   "language": "python",
   "name": "python3"
  },
  "language_info": {
   "codemirror_mode": {
    "name": "ipython",
    "version": 3
   },
   "file_extension": ".py",
   "mimetype": "text/x-python",
   "name": "python",
   "nbconvert_exporter": "python",
   "pygments_lexer": "ipython3",
   "version": "3.12.1"
  }
 },
 "nbformat": 4,
 "nbformat_minor": 5
}
